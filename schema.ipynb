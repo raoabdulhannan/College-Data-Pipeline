{
 "cells": [
  {
   "cell_type": "code",
   "execution_count": null,
   "metadata": {},
   "outputs": [],
   "source": [
    "CREATE TABLE Institutions (\n",
    "    UNITID INT PRIMARY KEY,\n",
    "    INSTNM VARCHAR(255) NOT NULL,\n",
    "    ADDR VARCHAR(255),\n",
    "    CITY VARCHAR(100),\n",
    "    STABBR CHAR(2),\n",
    "    ZIP VARCHAR(10),\n",
    "    LATITUDE DECIMAL(8, 6),\n",
    "    LONGITUDE DECIMAL(9, 6),\n",
    "    CONTROL VARCHAR(20),\n",
    "    OBEREG VARCHAR(50),\n",
    "    CCBASIC VARCHAR(50),\n",
    "    CBSA INT,\n",
    "    CSA INT,\n",
    "    COUNTYCD VARCHAR(5)\n",
    ");\n"
   ]
  },
  {
   "cell_type": "code",
   "execution_count": null,
   "metadata": {},
   "outputs": [],
   "source": [
    "CREATE TABLE College_Scorecard_Annual (\n",
    "    UNITID INT,\n",
    "    YEAR INT NOT NULL,\n",
    "    ACCREDAGENCY VARCHAR(255),\n",
    "    PREDDEG VARCHAR(100),\n",
    "    HIGHDEG VARCHAR(100),\n",
    "    ADM_RATE DECIMAL(6, 4),\n",
    "    C150_4 DECIMAL(6, 4),\n",
    "    C200_4 DECIMAL(6, 4),\n",
    "    AVGFACSAL DECIMAL(12, 2) CHECK (AVGFACSAL IS NULL OR AVGFACSAL > 0),\n",
    "    PRIMARY KEY (UNITID, YEAR)\n",
    ");"
   ]
  },
  {
   "cell_type": "code",
   "execution_count": null,
   "metadata": {},
   "outputs": [],
   "source": [
    "CREATE TABLE Financial_Data (\n",
    "    OPEID INT,\n",
    "    YEAR INT,\n",
    "    TUITIONFEE_IN DECIMAL(12, 2) CHECK (TUITIONFEE_IN IS NULL OR TUITIONFEE_IN > 0),\n",
    "    TUITIONFEE_OUT DECIMAL(12, 2) CHECK (TUITIONFEE_OUT IS NULL OR TUITIONFEE_OUT > 0),\n",
    "    TUITIONFEE_PROG DECIMAL(12, 2) CHECK (TUITIONFEE_PROG IS NULL OR TUITIONFEE_PROG > 0),\n",
    "    PCTPELL DECIMAL(6, 4),\n",
    "    DEBT_MDN DECIMAL(12, 2) CHECK (DEBT_MDN IS NULL OR DEBT_MDN >= 0),\n",
    "    RPY_3YR_RT DECIMAL,\n",
    "    CDR2 DECIMAL,\n",
    "    CDR3 DECIMAL,\n",
    "    MD_EARN_WNE_P8 DECIMAL(12, 2) CHECK (MD_EARN_WNE_P8 IS NULL OR MD_EARN_WNE_P8 >= 0),\n",
    "    PRIMARY KEY (OPEID, YEAR)  -- Changed from (UNITID, YEAR)\n",
    ");"
   ]
  },
  {
   "cell_type": "code",
   "execution_count": null,
   "metadata": {},
   "outputs": [],
   "source": [
    "CREATE TABLE Crosswalks (\n",
    "    UNITID INT,\n",
    "    OPEID INT,\n",
    "    PRIMARY KEY (UNITID, OPEID)\n",
    ");"
   ]
  }
 ],
 "metadata": {
  "language_info": {
   "name": "python"
  }
 },
 "nbformat": 4,
 "nbformat_minor": 2
}
